{
 "cells": [
  {
   "cell_type": "code",
   "execution_count": 3,
   "id": "4cdcc33d-e040-4394-b626-c7d16496f33f",
   "metadata": {},
   "outputs": [],
   "source": [
    "import pandas as pd\n",
    "import numpy as np\n",
    "\n",
    "from smt.sampling_methods import LHS\n",
    "\n",
    "#import warnings\n",
    "#warnings.filterwarnings('ignore')"
   ]
  },
  {
   "cell_type": "code",
   "execution_count": 4,
   "id": "14ee7029-9d13-4886-9f99-7283109224e9",
   "metadata": {},
   "outputs": [],
   "source": [
    "baseparameter_df = pd.read_excel('./basesampling.xlsx',index_col='Tagname', sheet_name='Overall')"
   ]
  },
  {
   "cell_type": "code",
   "execution_count": 5,
   "id": "56792611-1248-45cb-9ca6-4dfc2a1d1139",
   "metadata": {},
   "outputs": [],
   "source": [
    "baseparameter_df = baseparameter_df[['Lower', 'Upper']]"
   ]
  },
  {
   "cell_type": "code",
   "execution_count": 6,
   "id": "a2e11ade",
   "metadata": {},
   "outputs": [
    {
     "data": {
      "text/html": [
       "<div>\n",
       "<style scoped>\n",
       "    .dataframe tbody tr th:only-of-type {\n",
       "        vertical-align: middle;\n",
       "    }\n",
       "\n",
       "    .dataframe tbody tr th {\n",
       "        vertical-align: top;\n",
       "    }\n",
       "\n",
       "    .dataframe thead th {\n",
       "        text-align: right;\n",
       "    }\n",
       "</style>\n",
       "<table border=\"1\" class=\"dataframe\">\n",
       "  <thead>\n",
       "    <tr style=\"text-align: right;\">\n",
       "      <th></th>\n",
       "      <th>Lower</th>\n",
       "      <th>Upper</th>\n",
       "    </tr>\n",
       "    <tr>\n",
       "      <th>Tagname</th>\n",
       "      <th></th>\n",
       "      <th></th>\n",
       "    </tr>\n",
       "  </thead>\n",
       "  <tbody>\n",
       "    <tr>\n",
       "      <th>FEED1MASSFLOW</th>\n",
       "      <td>10000.00000</td>\n",
       "      <td>30000.000000</td>\n",
       "    </tr>\n",
       "    <tr>\n",
       "      <th>FEED1TEMP</th>\n",
       "      <td>10.00000</td>\n",
       "      <td>35.000000</td>\n",
       "    </tr>\n",
       "    <tr>\n",
       "      <th>PROD1MASSFLOW</th>\n",
       "      <td>20000.00000</td>\n",
       "      <td>60000.000000</td>\n",
       "    </tr>\n",
       "    <tr>\n",
       "      <th>PROD1TEMP</th>\n",
       "      <td>90.00000</td>\n",
       "      <td>135.000000</td>\n",
       "    </tr>\n",
       "    <tr>\n",
       "      <th>E1FOULING</th>\n",
       "      <td>0.00025</td>\n",
       "      <td>0.002936</td>\n",
       "    </tr>\n",
       "    <tr>\n",
       "      <th>E2FOULING</th>\n",
       "      <td>0.00025</td>\n",
       "      <td>0.002936</td>\n",
       "    </tr>\n",
       "  </tbody>\n",
       "</table>\n",
       "</div>"
      ],
      "text/plain": [
       "                     Lower         Upper\n",
       "Tagname                                 \n",
       "FEED1MASSFLOW  10000.00000  30000.000000\n",
       "FEED1TEMP         10.00000     35.000000\n",
       "PROD1MASSFLOW  20000.00000  60000.000000\n",
       "PROD1TEMP         90.00000    135.000000\n",
       "E1FOULING          0.00025      0.002936\n",
       "E2FOULING          0.00025      0.002936"
      ]
     },
     "execution_count": 6,
     "metadata": {},
     "output_type": "execute_result"
    }
   ],
   "source": [
    "baseparameter_df"
   ]
  },
  {
   "cell_type": "code",
   "execution_count": 7,
   "id": "50d9b61e-664e-4e16-ae9b-ba908686f659",
   "metadata": {},
   "outputs": [],
   "source": [
    "xlimits = []\n",
    "for key, rows in baseparameter_df.iterrows():\n",
    "    xlimits.append(rows.to_list())\n",
    "xlimits_lhs = np.array(xlimits)"
   ]
  },
  {
   "cell_type": "code",
   "execution_count": 8,
   "id": "2bff2758-790b-4441-bec6-2c49f3a85509",
   "metadata": {},
   "outputs": [
    {
     "data": {
      "text/plain": [
       "array([[1.000e+04, 3.000e+04],\n",
       "       [1.000e+01, 3.500e+01],\n",
       "       [2.000e+04, 6.000e+04],\n",
       "       [9.000e+01, 1.350e+02],\n",
       "       [2.500e-04, 2.936e-03],\n",
       "       [2.500e-04, 2.936e-03]])"
      ]
     },
     "execution_count": 8,
     "metadata": {},
     "output_type": "execute_result"
    }
   ],
   "source": [
    "xlimits_lhs"
   ]
  },
  {
   "cell_type": "code",
   "execution_count": 13,
   "id": "e39aec99-f146-41be-b35b-0d1d5b4e35aa",
   "metadata": {},
   "outputs": [
    {
     "name": "stdout",
     "output_type": "stream",
     "text": [
      "(1000, 6)\n"
     ]
    }
   ],
   "source": [
    "sampling = LHS(xlimits=xlimits_lhs, random_state=42)\n",
    "num = 1000\n",
    "x = sampling(num)\n",
    "\n",
    "print(x.shape)"
   ]
  },
  {
   "cell_type": "code",
   "execution_count": 14,
   "id": "ec9b3470-8e1e-450b-a98d-d10efd0b674f",
   "metadata": {},
   "outputs": [],
   "source": [
    "df_sample = pd.DataFrame(x, columns = baseparameter_df.index.to_list())"
   ]
  },
  {
   "cell_type": "code",
   "execution_count": 15,
   "id": "64bb109f-0941-47fb-a2e8-bdc804faf113",
   "metadata": {},
   "outputs": [
    {
     "data": {
      "text/html": [
       "<div>\n",
       "<style scoped>\n",
       "    .dataframe tbody tr th:only-of-type {\n",
       "        vertical-align: middle;\n",
       "    }\n",
       "\n",
       "    .dataframe tbody tr th {\n",
       "        vertical-align: top;\n",
       "    }\n",
       "\n",
       "    .dataframe thead th {\n",
       "        text-align: right;\n",
       "    }\n",
       "</style>\n",
       "<table border=\"1\" class=\"dataframe\">\n",
       "  <thead>\n",
       "    <tr style=\"text-align: right;\">\n",
       "      <th></th>\n",
       "      <th>FEED1MASSFLOW</th>\n",
       "      <th>FEED1TEMP</th>\n",
       "      <th>PROD1MASSFLOW</th>\n",
       "      <th>PROD1TEMP</th>\n",
       "      <th>E1FOULING</th>\n",
       "      <th>E2FOULING</th>\n",
       "    </tr>\n",
       "  </thead>\n",
       "  <tbody>\n",
       "    <tr>\n",
       "      <th>0</th>\n",
       "      <td>10550.0</td>\n",
       "      <td>14.2625</td>\n",
       "      <td>49740.0</td>\n",
       "      <td>124.9875</td>\n",
       "      <td>0.002067</td>\n",
       "      <td>0.002161</td>\n",
       "    </tr>\n",
       "    <tr>\n",
       "      <th>1</th>\n",
       "      <td>15250.0</td>\n",
       "      <td>12.1625</td>\n",
       "      <td>34620.0</td>\n",
       "      <td>119.9025</td>\n",
       "      <td>0.002626</td>\n",
       "      <td>0.000963</td>\n",
       "    </tr>\n",
       "    <tr>\n",
       "      <th>2</th>\n",
       "      <td>22590.0</td>\n",
       "      <td>17.0375</td>\n",
       "      <td>20540.0</td>\n",
       "      <td>94.6575</td>\n",
       "      <td>0.000952</td>\n",
       "      <td>0.001737</td>\n",
       "    </tr>\n",
       "    <tr>\n",
       "      <th>3</th>\n",
       "      <td>19770.0</td>\n",
       "      <td>20.7375</td>\n",
       "      <td>27820.0</td>\n",
       "      <td>118.5975</td>\n",
       "      <td>0.001178</td>\n",
       "      <td>0.002110</td>\n",
       "    </tr>\n",
       "    <tr>\n",
       "      <th>4</th>\n",
       "      <td>20990.0</td>\n",
       "      <td>10.1125</td>\n",
       "      <td>27580.0</td>\n",
       "      <td>121.7925</td>\n",
       "      <td>0.001530</td>\n",
       "      <td>0.000595</td>\n",
       "    </tr>\n",
       "    <tr>\n",
       "      <th>...</th>\n",
       "      <td>...</td>\n",
       "      <td>...</td>\n",
       "      <td>...</td>\n",
       "      <td>...</td>\n",
       "      <td>...</td>\n",
       "      <td>...</td>\n",
       "    </tr>\n",
       "    <tr>\n",
       "      <th>995</th>\n",
       "      <td>10250.0</td>\n",
       "      <td>10.6375</td>\n",
       "      <td>38460.0</td>\n",
       "      <td>131.2875</td>\n",
       "      <td>0.000950</td>\n",
       "      <td>0.001621</td>\n",
       "    </tr>\n",
       "    <tr>\n",
       "      <th>996</th>\n",
       "      <td>25450.0</td>\n",
       "      <td>34.9875</td>\n",
       "      <td>52020.0</td>\n",
       "      <td>124.0875</td>\n",
       "      <td>0.000748</td>\n",
       "      <td>0.002580</td>\n",
       "    </tr>\n",
       "    <tr>\n",
       "      <th>997</th>\n",
       "      <td>26370.0</td>\n",
       "      <td>20.6375</td>\n",
       "      <td>41700.0</td>\n",
       "      <td>93.0375</td>\n",
       "      <td>0.002569</td>\n",
       "      <td>0.001044</td>\n",
       "    </tr>\n",
       "    <tr>\n",
       "      <th>998</th>\n",
       "      <td>20250.0</td>\n",
       "      <td>29.9875</td>\n",
       "      <td>28100.0</td>\n",
       "      <td>105.0975</td>\n",
       "      <td>0.002234</td>\n",
       "      <td>0.002454</td>\n",
       "    </tr>\n",
       "    <tr>\n",
       "      <th>999</th>\n",
       "      <td>24730.0</td>\n",
       "      <td>20.3875</td>\n",
       "      <td>29660.0</td>\n",
       "      <td>93.3075</td>\n",
       "      <td>0.001079</td>\n",
       "      <td>0.000292</td>\n",
       "    </tr>\n",
       "  </tbody>\n",
       "</table>\n",
       "<p>1000 rows × 6 columns</p>\n",
       "</div>"
      ],
      "text/plain": [
       "     FEED1MASSFLOW  FEED1TEMP  PROD1MASSFLOW  PROD1TEMP  E1FOULING  E2FOULING\n",
       "0          10550.0    14.2625        49740.0   124.9875   0.002067   0.002161\n",
       "1          15250.0    12.1625        34620.0   119.9025   0.002626   0.000963\n",
       "2          22590.0    17.0375        20540.0    94.6575   0.000952   0.001737\n",
       "3          19770.0    20.7375        27820.0   118.5975   0.001178   0.002110\n",
       "4          20990.0    10.1125        27580.0   121.7925   0.001530   0.000595\n",
       "..             ...        ...            ...        ...        ...        ...\n",
       "995        10250.0    10.6375        38460.0   131.2875   0.000950   0.001621\n",
       "996        25450.0    34.9875        52020.0   124.0875   0.000748   0.002580\n",
       "997        26370.0    20.6375        41700.0    93.0375   0.002569   0.001044\n",
       "998        20250.0    29.9875        28100.0   105.0975   0.002234   0.002454\n",
       "999        24730.0    20.3875        29660.0    93.3075   0.001079   0.000292\n",
       "\n",
       "[1000 rows x 6 columns]"
      ]
     },
     "execution_count": 15,
     "metadata": {},
     "output_type": "execute_result"
    }
   ],
   "source": [
    "df_sample"
   ]
  },
  {
   "cell_type": "code",
   "execution_count": 16,
   "id": "58de91ab-e77a-4068-918f-cfa3fdb498a8",
   "metadata": {},
   "outputs": [],
   "source": [
    "df_sample.to_excel('./SimpleHX_LHS1000_overall_samples.xlsx')"
   ]
  },
  {
   "cell_type": "code",
   "execution_count": null,
   "id": "c13e1aab-fb78-4486-a104-0385ae3f1122",
   "metadata": {},
   "outputs": [],
   "source": []
  }
 ],
 "metadata": {
  "kernelspec": {
   "display_name": "base",
   "language": "python",
   "name": "python3"
  },
  "language_info": {
   "codemirror_mode": {
    "name": "ipython",
    "version": 3
   },
   "file_extension": ".py",
   "mimetype": "text/x-python",
   "name": "python",
   "nbconvert_exporter": "python",
   "pygments_lexer": "ipython3",
   "version": "3.12.7"
  }
 },
 "nbformat": 4,
 "nbformat_minor": 5
}
