{
 "cells": [
  {
   "cell_type": "code",
   "execution_count": 1,
   "id": "8c8680e8",
   "metadata": {},
   "outputs": [],
   "source": [
    "import pandas as pd\n",
    "import numpy as np\n",
    "import json\n",
    "import matplotlib.pyplot as plt\n",
    "\n",
    "import os\n",
    "import sys\n",
    "relative_path = \"../__Fitting_Drivers/\"\n",
    "absolute_path = os.path.abspath(relative_path)\n",
    "\n",
    "sys.path.append(absolute_path)\n",
    "plt.rcParams.update({\n",
    "    'font.size': 14,\n",
    "    'axes.labelsize': 14,\n",
    "    'axes.titlesize': 16,\n",
    "    'xtick.labelsize': 14,\n",
    "    'ytick.labelsize': 14,\n",
    "    'legend.fontsize': 14,\n",
    "    'figure.titlesize': 18\n",
    "})\n"
   ]
  },
  {
   "cell_type": "code",
   "execution_count": 2,
   "id": "eaf4f3bd",
   "metadata": {},
   "outputs": [],
   "source": [
    "test_data = pd.read_excel('../01_DataCollecting/Sim_result/Heat_exchanger_process_data_result_V5-short.xlsx', index_col=0)\n",
    "test_data.reset_index(drop=True, inplace=True)"
   ]
  },
  {
   "cell_type": "code",
   "execution_count": 3,
   "id": "e31aaaf0",
   "metadata": {},
   "outputs": [],
   "source": [
    "# Simulation Cols mapping\n",
    "cols_mapping = {'InputParams': {'FEED1MASSFLOW': 'C3', 'FEED1TEMP': 'C4','PROD1MASSFLOW': 'C5','PROD1TEMP': 'C6',\n",
    "                          'E1FOULING': 'C11', 'E2FOULING': 'C15'},\n",
    "               'OutputParams': {'PROD1E1IN': 'C3', 'PROD1OUT': 'C4', 'FEED1E1OUT': 'C7', 'FEED1OUT': 'C8'},\n",
    "               'Outputuoms': {'PROD1E1IN': 'C', 'PROD1OUT': 'C', 'FEED1E1OUT': 'C', 'FEED1OUT': 'C'}\n",
    "               }\n",
    "# X , y cols sorrend a fontos az ANN-hez majd\n",
    "x_cols = list(cols_mapping['InputParams'].keys())\n",
    "y_cols = list(cols_mapping['OutputParams'].keys())"
   ]
  },
  {
   "cell_type": "code",
   "execution_count": 4,
   "id": "75de8713",
   "metadata": {},
   "outputs": [],
   "source": [
    "fnn_low_data = pd.read_csv('../01_DataCollecting/Sim_result/Surrogate_dataset_LHS_200.csv', index_col=0, encoding='ISO-8859-1')\n",
    "fnn_low_data.reset_index(drop=True, inplace=True)\n",
    "\n",
    "fnn_high_data = pd.read_csv('../01_DataCollecting/Sim_result/Surrogate_dataset_LHS_1000.csv', index_col=0, encoding='ISO-8859-1')\n",
    "fnn_high_data.reset_index(drop=True, inplace=True)\n",
    "\n",
    "bnn_data = pd.read_excel('Adaptive_train_data.xlsx', index_col=0)\n",
    "bnn_data.reset_index(drop=True, inplace=True)\n",
    "\n",
    "fnn_bnn_data = pd.read_excel('Adaptive_train_data.xlsx', index_col=0)\n",
    "fnn_bnn_data.reset_index(drop=True, inplace=True)"
   ]
  },
  {
   "cell_type": "code",
   "execution_count": 5,
   "id": "3bfccb3e",
   "metadata": {},
   "outputs": [],
   "source": [
    "from sklearn.model_selection import train_test_split\n",
    "from sklearn.metrics import mean_absolute_error,mean_squared_error, r2_score, mean_absolute_percentage_error\n",
    "from sklearn.preprocessing import StandardScaler\n",
    "from sklearn.preprocessing import Normalizer\n",
    "from sklearn.neural_network import MLPRegressor\n",
    "from Scaler_driver import DataScaler as DS\n",
    "import Simulation_driver as SM\n",
    "\n",
    "from sklearn.model_selection import train_test_split\n",
    "from sklearn.preprocessing import StandardScaler\n",
    "import tensorflow as tf\n",
    "from tensorflow.keras import layers, models\n",
    "from keras.saving import register_keras_serializable"
   ]
  },
  {
   "cell_type": "code",
   "execution_count": 6,
   "id": "e7910da0",
   "metadata": {},
   "outputs": [],
   "source": [
    "import joblib\n",
    "import os\n",
    "\n",
    "def save_model(model, x_cols, y_cols, scaler, path='Models/', filename='mlp_model.joblib'):\n",
    "    # Create directory if it doesn't exist\n",
    "    os.makedirs(path, exist_ok=True)\n",
    "    \n",
    "    # Save model and metadata together\n",
    "    model_data = {\n",
    "        'model': model,\n",
    "        'x_cols': x_cols,\n",
    "        'y_cols': y_cols,\n",
    "        'scaler': scaler\n",
    "    }\n",
    "    \n",
    "    joblib.dump(model_data, os.path.join(path, filename))\n",
    "    print(f\"Model saved to {os.path.join(path, filename)}\")\n",
    "\n",
    "def load_model(path='Models/mlp_model.joblib'):\n",
    "    # Load model and metadata\n",
    "    model_data = joblib.load(path)\n",
    "    \n",
    "    model = model_data['model']\n",
    "    x_cols = model_data['x_cols']\n",
    "    y_cols = model_data['y_cols']\n",
    "    scaler = model_data['scaler']\n",
    "    \n",
    "    print(f\"Model loaded from {path}\")\n",
    "    return model, x_cols, y_cols, scaler"
   ]
  },
  {
   "cell_type": "code",
   "execution_count": 7,
   "id": "a7bb434f",
   "metadata": {},
   "outputs": [],
   "source": [
    "# --- Custom Monte Carlo Dropout Layer ---\n",
    "@register_keras_serializable()\n",
    "class MCDropout(layers.Dropout):\n",
    "    def call(self, inputs, training=None):\n",
    "        return super().call(inputs, training=True)\n",
    "\n",
    "# --- Build BNN ---\n",
    "def build_bnn_model(input_dim, output_dim, dropout_rate=0.1):\n",
    "    model = models.Sequential([\n",
    "        layers.Input(shape=(input_dim,)),\n",
    "        layers.Dense(50, activation='relu'),\n",
    "        MCDropout(dropout_rate),\n",
    "        layers.Dense(output_dim)\n",
    "    ])\n",
    "    model.compile(optimizer='adam', loss='mse')\n",
    "    return model\n",
    "\n",
    "# --- Predict with Uncertainty ---\n",
    "def predict_with_uncertainty(f_model, x_tensor, n_iter=50):\n",
    "    preds = np.stack([f_model(x_tensor, training=True).numpy() for _ in range(n_iter)], axis=0)\n",
    "    mean_preds = preds.mean(axis=0)\n",
    "    std_preds = preds.std(axis=0)\n",
    "    return mean_preds, std_preds"
   ]
  },
  {
   "cell_type": "code",
   "execution_count": 8,
   "id": "c7bfcc26",
   "metadata": {},
   "outputs": [
    {
     "name": "stdout",
     "output_type": "stream",
     "text": [
      "Model loaded from ../00_Modell_database/Sklearnmodel/sklearnann.joblib\n",
      "Model loaded from ../00_Modell_database/Sklearnmodelbig/sklearnann.joblib\n",
      "Model loaded from ../00_Modell_database/AdaptiveModel/sklearnann.joblib\n",
      "Model loaded from ../00_Modell_database/AdaptivedatFNN/sklearnann.joblib\n"
     ]
    }
   ],
   "source": [
    "# load models\n",
    "\n",
    "fnn_low, x_cols, y_cols, fnn_low_scaler = load_model('../00_Modell_database/Sklearnmodel/sklearnann.joblib')\n",
    "\n",
    "fnn_high, x_cols, y_cols, fnn_high_scaler = load_model('../00_Modell_database/Sklearnmodelbig/sklearnann.joblib')\n",
    "\n",
    "bnn, x_cols, y_cols, bnn_scaler = load_model('../00_Modell_database/AdaptiveModel/sklearnann.joblib')\n",
    "\n",
    "fnn_bnn_low, x_cols, y_cols, fnn_bnn_low_scaler = load_model('../00_Modell_database/AdaptivedatFNN/sklearnann.joblib')"
   ]
  },
  {
   "cell_type": "code",
   "execution_count": 9,
   "id": "a514ab3f",
   "metadata": {},
   "outputs": [
    {
     "name": "stdout",
     "output_type": "stream",
     "text": [
      "\u001b[1m1/5\u001b[0m \u001b[32m━━━━\u001b[0m\u001b[37m━━━━━━━━━━━━━━━━\u001b[0m \u001b[1m0s\u001b[0m 119ms/step"
     ]
    },
    {
     "name": "stderr",
     "output_type": "stream",
     "text": [
      "c:\\Users\\pales\\anaconda3\\Lib\\site-packages\\sklearn\\base.py:493: UserWarning: X does not have valid feature names, but MLPRegressor was fitted with feature names\n",
      "  warnings.warn(\n",
      "c:\\Users\\pales\\anaconda3\\Lib\\site-packages\\sklearn\\base.py:493: UserWarning: X does not have valid feature names, but MLPRegressor was fitted with feature names\n",
      "  warnings.warn(\n",
      "c:\\Users\\pales\\anaconda3\\Lib\\site-packages\\sklearn\\base.py:493: UserWarning: X does not have valid feature names, but MLPRegressor was fitted with feature names\n",
      "  warnings.warn(\n",
      "c:\\Users\\pales\\anaconda3\\Lib\\site-packages\\sklearn\\base.py:493: UserWarning: X does not have valid feature names, but MLPRegressor was fitted with feature names\n",
      "  warnings.warn(\n"
     ]
    },
    {
     "name": "stdout",
     "output_type": "stream",
     "text": [
      "\u001b[1m5/5\u001b[0m \u001b[32m━━━━━━━━━━━━━━━━━━━━\u001b[0m\u001b[37m\u001b[0m \u001b[1m0s\u001b[0m 9ms/step  \n",
      "\u001b[1m17/17\u001b[0m \u001b[32m━━━━━━━━━━━━━━━━━━━━\u001b[0m\u001b[37m\u001b[0m \u001b[1m0s\u001b[0m 938us/step\n"
     ]
    },
    {
     "name": "stderr",
     "output_type": "stream",
     "text": [
      "c:\\Users\\pales\\anaconda3\\Lib\\site-packages\\sklearn\\base.py:493: UserWarning: X does not have valid feature names, but MLPRegressor was fitted with feature names\n",
      "  warnings.warn(\n",
      "c:\\Users\\pales\\anaconda3\\Lib\\site-packages\\sklearn\\base.py:493: UserWarning: X does not have valid feature names, but MLPRegressor was fitted with feature names\n",
      "  warnings.warn(\n"
     ]
    }
   ],
   "source": [
    "fnn_low_train_sc = fnn_low_scaler.x_scaler.transform(fnn_low_data[x_cols])\n",
    "fnn_low_pred_train = fnn_low.predict(fnn_low_train_sc)\n",
    "fnn_low_pred_train = fnn_low_scaler.y_scaler.inverse_transform(fnn_low_pred_train)\n",
    "fnn_low_pred_train_df = pd.DataFrame(fnn_low_pred_train, columns=y_cols)\n",
    "\n",
    "fnn_low_test_sc = fnn_low_scaler.x_scaler.transform(test_data[x_cols])\n",
    "fnn_low_pred_test = fnn_low.predict(fnn_low_test_sc)\n",
    "fnn_low_pred_test = fnn_low_scaler.y_scaler.inverse_transform(fnn_low_pred_test)\n",
    "fnn_low_pred_test_df = pd.DataFrame(fnn_low_pred_test, columns=y_cols)\n",
    "\n",
    "\n",
    "\n",
    "fnn_high_train_sc = fnn_high_scaler.x_scaler.transform(fnn_high_data[x_cols])\n",
    "fnn_high_pred_train = fnn_high.predict(fnn_high_train_sc)\n",
    "fnn_high_pred_train = fnn_high_scaler.y_scaler.inverse_transform(fnn_high_pred_train)\n",
    "fnn_high_pred_train_df = pd.DataFrame(fnn_high_pred_train, columns=y_cols)\n",
    "\n",
    "fnn_high_test_sc = fnn_high_scaler.x_scaler.transform(test_data[x_cols])\n",
    "fnn_high_pred_test = fnn_high.predict(fnn_high_test_sc)\n",
    "fnn_high_pred_test = fnn_high_scaler.y_scaler.inverse_transform(fnn_high_pred_test)\n",
    "fnn_high_pred_test_df = pd.DataFrame(fnn_high_pred_test, columns=y_cols)\n",
    "\n",
    "\n",
    "\n",
    "bnn_train_sc = bnn_scaler.x_scaler.transform(bnn_data[x_cols])\n",
    "bnn_pred_train = bnn.predict(bnn_train_sc)\n",
    "bnn_pred_train = bnn_scaler.y_scaler.inverse_transform(bnn_pred_train)\n",
    "bnn_pred_train_df = pd.DataFrame(bnn_pred_train, columns=y_cols)\n",
    "\n",
    "bnn_test_sc = bnn_scaler.x_scaler.transform(test_data[x_cols])\n",
    "bnn_pred_test = bnn.predict(bnn_test_sc)\n",
    "bnn_pred_test = bnn_scaler.y_scaler.inverse_transform(bnn_pred_test)\n",
    "bnn_pred_test_df = pd.DataFrame(bnn_pred_test, columns=y_cols)\n",
    "\n",
    "\n",
    "fnn_bnn_low_train_sc = fnn_bnn_low_scaler.x_scaler.transform(fnn_bnn_data[x_cols])\n",
    "fnn_bnn_low_pred_train = fnn_bnn_low.predict(fnn_bnn_low_train_sc)\n",
    "fnn_bnn_low_pred_train = fnn_bnn_low_scaler.y_scaler.inverse_transform(fnn_bnn_low_pred_train)\n",
    "fnn_bnn_low_pred_train_df = pd.DataFrame(fnn_bnn_low_pred_train, columns=y_cols)\n",
    "\n",
    "fnn_bnn_low_test_sc = fnn_bnn_low_scaler.x_scaler.transform(test_data[x_cols])\n",
    "fnn_bnn_low_pred_test = fnn_bnn_low.predict(fnn_bnn_low_test_sc)\n",
    "fnn_bnn_low_pred_test = fnn_bnn_low_scaler.y_scaler.inverse_transform(fnn_bnn_low_pred_test)\n",
    "fnn_bnn_low_pred_test_df = pd.DataFrame(fnn_bnn_low_pred_test, columns=y_cols)"
   ]
  },
  {
   "cell_type": "code",
   "execution_count": 13,
   "id": "ffe7dc93",
   "metadata": {},
   "outputs": [
    {
     "data": {
      "image/png": "[encoded data removed]",
      "text/plain": [
       "<Figure size 1200x500 with 2 Axes>"
      ]
     },
     "metadata": {},
     "output_type": "display_data"
    }
   ],
   "source": [
    "import pandas as pd\n",
    "import numpy as np\n",
    "import seaborn as sns\n",
    "import matplotlib.pyplot as plt\n",
    "from sklearn.metrics import mean_squared_error, r2_score\n",
    "\n",
    "# Metrics\n",
    "def rmse(y_true, y_pred):\n",
    "    return np.sqrt(mean_squared_error(y_true, y_pred))\n",
    "\n",
    "# Store results\n",
    "rmse_results = []\n",
    "r2_results = []\n",
    "\n",
    "# Model list with labels and data\n",
    "models_data = [\n",
    "    (\"FNN-low\", fnn_low_data[y_cols], fnn_low_pred_train_df, test_data[y_cols], fnn_low_pred_test_df),\n",
    "    (\"FNN-high\", fnn_high_data[y_cols], fnn_high_pred_train_df, test_data[y_cols], fnn_high_pred_test_df),\n",
    "    (\"BNN\", bnn_data[y_cols], bnn_pred_train_df, test_data[y_cols], bnn_pred_test_df),\n",
    "    (\"FNN-BNN-low\", fnn_bnn_data[y_cols], fnn_bnn_low_pred_train_df, test_data[y_cols], fnn_bnn_low_pred_test_df)\n",
    "]\n",
    "\n",
    "# Calculate metrics\n",
    "for model_name, y_train, y_pred_train, y_test, y_pred_test in models_data:\n",
    "    rmse_results.append([model_name, \"Train\", rmse(y_train, y_pred_train)])\n",
    "    rmse_results.append([model_name, \"Test\", rmse(y_test, y_pred_test)])\n",
    "    \n",
    "    r2_results.append([model_name, \"Train\", r2_score(y_train, y_pred_train)])\n",
    "    r2_results.append([model_name, \"Test\", r2_score(y_test, y_pred_test)])\n",
    "\n",
    "# Create tidy DataFrames\n",
    "df_rmse = pd.DataFrame(rmse_results, columns=[\"Model\", \"Dataset\", \"Value\"])\n",
    "df_r2 = pd.DataFrame(r2_results, columns=[\"Model\", \"Dataset\", \"Value\"])\n",
    "\n",
    "# Custom color palette\n",
    "palette = {\"Train\": \"#0072B2\", \"Test\": \"#009E73\"}\n",
    "\n",
    "# Figure\n",
    "sns.set_theme(style=\"whitegrid\", font_scale=1.4)\n",
    "fig, axes = plt.subplots(1, 2, figsize=(12, 5), sharex=True)\n",
    "\n",
    "# RMSE plot\n",
    "sns.barplot(data=df_rmse, x=\"Model\", y=\"Value\", hue=\"Dataset\", palette=palette, edgecolor=\"black\", ax=axes[0])\n",
    "axes[0].set_ylabel(\"RMSE\", fontsize=14)\n",
    "axes[0].set_xlabel(\"\")\n",
    "axes[0].set_title(\"Model RMSE\", fontsize=16)\n",
    "\n",
    "# Add value labels to each bar\n",
    "for container in axes[0].containers:\n",
    "    axes[0].bar_label(container, fmt='%.2f', padding=2, fontsize=11)\n",
    "\n",
    "\n",
    "\n",
    "# R² plot\n",
    "sns.barplot(data=df_r2, x=\"Model\", y=\"Value\", hue=\"Dataset\", palette=palette, edgecolor=\"black\", ax=axes[1])\n",
    "axes[1].set_ylabel(r\"$R^2$\", fontsize=14)\n",
    "axes[1].set_xlabel(\"\")\n",
    "axes[1].set_title(\"Model $R^2$\", fontsize=16)\n",
    "\n",
    "# Add value labels to each bar\n",
    "for container in axes[1].containers:\n",
    "    axes[1].bar_label(container, fmt='%.3f', padding=2, fontsize=11)\n",
    "\n",
    "# Common legend\n",
    "handles, labels = axes[0].get_legend_handles_labels()\n",
    "fig.legend(handles, labels, loc=\"upper center\", ncol=2, frameon=False, fontsize=12, title=\"\", title_fontsize=12)\n",
    "\n",
    "# Remove individual legends\n",
    "axes[0].get_legend().remove()\n",
    "axes[1].get_legend().remove()\n",
    "\n",
    "# Adjust layout\n",
    "plt.tight_layout(rect=[0, 0, 1, 0.92])\n",
    "sns.despine()\n",
    "plt.show()\n"
   ]
  },
  {
   "cell_type": "code",
   "execution_count": null,
   "id": "fcbca81a",
   "metadata": {},
   "outputs": [],
   "source": []
  }
 ],
 "metadata": {
  "kernelspec": {
   "display_name": "base",
   "language": "python",
   "name": "python3"
  },
  "language_info": {
   "codemirror_mode": {
    "name": "ipython",
    "version": 3
   },
   "file_extension": ".py",
   "mimetype": "text/x-python",
   "name": "python",
   "nbconvert_exporter": "python",
   "pygments_lexer": "ipython3",
   "version": "3.12.7"
  }
 },
 "nbformat": 4,
 "nbformat_minor": 5
}
